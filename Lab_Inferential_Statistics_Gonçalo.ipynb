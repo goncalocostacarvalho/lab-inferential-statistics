{
 "cells": [
  {
   "cell_type": "markdown",
   "id": "e77d0f27",
   "metadata": {},
   "source": [
    "# Lab | Inferential Statistics"
   ]
  },
  {
   "cell_type": "markdown",
   "id": "5cf0e3ed",
   "metadata": {},
   "source": [
    "### Libraries"
   ]
  },
  {
   "cell_type": "code",
   "execution_count": 4,
   "id": "9f64166b",
   "metadata": {},
   "outputs": [],
   "source": [
    "import math\n",
    "import numpy as np\n",
    "import scipy.stats as st"
   ]
  },
  {
   "cell_type": "markdown",
   "id": "0798da5c",
   "metadata": {},
   "source": [
    "### Set up the hypothesis  test"
   ]
  },
  {
   "cell_type": "markdown",
   "id": "dca4d6c2",
   "metadata": {},
   "source": [
    "H0 : mu systolic blood pressure = 120 mmHg\n",
    "\n",
    "H1 : mu systolic blood pressure != 120 mmHg"
   ]
  },
  {
   "cell_type": "markdown",
   "id": "4ca60fc9",
   "metadata": {},
   "source": [
    "### Confidence level"
   ]
  },
  {
   "cell_type": "code",
   "execution_count": 1,
   "id": "8dedc3df",
   "metadata": {},
   "outputs": [],
   "source": [
    "alpha=0.05"
   ]
  },
  {
   "cell_type": "markdown",
   "id": "213be446",
   "metadata": {},
   "source": [
    "### Parameters"
   ]
  },
  {
   "cell_type": "code",
   "execution_count": 3,
   "id": "f07e537d",
   "metadata": {},
   "outputs": [],
   "source": [
    "mu=120\n",
    "sample_size=100\n",
    "mean_sample=130.1\n",
    "std_sample=21.21"
   ]
  },
  {
   "cell_type": "markdown",
   "id": "61765ee4",
   "metadata": {},
   "source": [
    "### T-test"
   ]
  },
  {
   "cell_type": "code",
   "execution_count": 5,
   "id": "6eab58a1",
   "metadata": {},
   "outputs": [
    {
     "data": {
      "text/plain": [
       "4.761904761904759"
      ]
     },
     "execution_count": 5,
     "metadata": {},
     "output_type": "execute_result"
    }
   ],
   "source": [
    "stat=(mean_sample-mu)/(std_sample/math.sqrt(sample_size))\n",
    "stat"
   ]
  },
  {
   "cell_type": "code",
   "execution_count": 9,
   "id": "52630bae",
   "metadata": {},
   "outputs": [
    {
     "data": {
      "text/plain": [
       "-1.9599639845400545"
      ]
     },
     "execution_count": 9,
     "metadata": {},
     "output_type": "execute_result"
    }
   ],
   "source": [
    "cv=st.norm.ppf(.025) #how to get critical value\n",
    "cv"
   ]
  },
  {
   "cell_type": "code",
   "execution_count": 7,
   "id": "9391f185",
   "metadata": {},
   "outputs": [
    {
     "data": {
      "text/plain": [
       "6.562701817208617e-06"
      ]
     },
     "execution_count": 7,
     "metadata": {},
     "output_type": "execute_result"
    }
   ],
   "source": [
    "p_value = st.t.sf(abs(stat), sample_size-1)*2\n",
    "p_value"
   ]
  },
  {
   "cell_type": "code",
   "execution_count": 10,
   "id": "a58f3150",
   "metadata": {},
   "outputs": [
    {
     "data": {
      "text/plain": [
       "3.2813509086043083e-06"
      ]
     },
     "execution_count": 10,
     "metadata": {},
     "output_type": "execute_result"
    }
   ],
   "source": [
    "#p_value_2 = st.t.sf(abs(stat), sample_size-1)\n",
    "#p_value_2"
   ]
  },
  {
   "cell_type": "code",
   "execution_count": 8,
   "id": "6679cd2a",
   "metadata": {},
   "outputs": [
    {
     "name": "stdout",
     "output_type": "stream",
     "text": [
      "We reject the null hypotesis\n"
     ]
    }
   ],
   "source": [
    "if p_value > alpha:\n",
    "    print(\"We are not able to reject the null hypothesis\")\n",
    "else:\n",
    "    print(\"We reject the null hypotesis\")"
   ]
  },
  {
   "cell_type": "code",
   "execution_count": null,
   "id": "cd073331",
   "metadata": {},
   "outputs": [],
   "source": []
  }
 ],
 "metadata": {
  "kernelspec": {
   "display_name": "Python 3 (ipykernel)",
   "language": "python",
   "name": "python3"
  },
  "language_info": {
   "codemirror_mode": {
    "name": "ipython",
    "version": 3
   },
   "file_extension": ".py",
   "mimetype": "text/x-python",
   "name": "python",
   "nbconvert_exporter": "python",
   "pygments_lexer": "ipython3",
   "version": "3.11.5"
  }
 },
 "nbformat": 4,
 "nbformat_minor": 5
}
